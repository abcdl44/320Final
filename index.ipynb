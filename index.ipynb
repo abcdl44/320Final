{
 "cells": [
  {
   "cell_type": "markdown",
   "id": "forty-updating",
   "metadata": {},
   "source": [
    "# NA vs EU: The League of Legends debate\n",
    "### Authors: Wesley Chen and Preetham Rudraraju\n",
    "\n"
   ]
  },
  {
   "cell_type": "markdown",
   "id": "norwegian-manhattan",
   "metadata": {},
   "source": [
    "\n",
    "\n",
    "\n",
    "## Introduction: \n",
    "Our project involves comparing the competitive regions of North America and Western Europe\n",
    "in the popular online competitive game League of Legends. Esports has been one of the fastest \n",
    "growing entertainment industry and sport in the world. Esports is especially popular with \n",
    "the younger audiences and is here to stay. League of Legends is probably the game that \n",
    "redefined esports. The average payroll at certain teams exceeds that of an average \n",
    "MLS(Major League Soccer) team. At international events entire stadiums of up to 50,000 people \n",
    "are completely filled. With such a large growing fanbase, fans certainly have an expectation \n",
    "on the teams from their region. Fans from both NA and EU have commonly been bantered back \n",
    "and forth as to which region is the superior one, and thus, using the online Kaggle League of \n",
    "Legends dataset (found at https://www.kaggle.com/chuckephron/leagueoflegends) this project hopes \n",
    "to add fuel to the raging debate. We also want to examine the future of both of these regions and\n",
    "what NA and EU can expect from their sides. Can fans continue to cheer their sides on or do they\n",
    "need a new plan?\n",
    "\n",
    "The Kaggle League of Legends dataset includes the data of every single competitive game of League of\n",
    "Legends played from Summer 2014 to Summer 2017. While the dataset contains a vast amount of detailed\n",
    "information about each game, the only data we will be concerning ourselves with is winrate. After all,\n",
    "it doesn't matter how well your individual players perform in a game if the game is still lost. A team could\n",
    "be massively ahead, then embarrassingly lose the overall match or series. Thus, the only valid metric for\n",
    "comparison would be winrate.\n",
    "\n",
    "Unfortunately, the dataset does not contain any information about things not directly related to the game.\n",
    "Thus we cannot see team payrolls, staff size, or how long a team has been around. Those metrics would be\n",
    "interesting to analyze, but we do not have the data to perform such analysis."
   ]
  },
  {
   "cell_type": "code",
   "execution_count": 1,
   "id": "drawn-brooks",
   "metadata": {},
   "outputs": [],
   "source": [
    "# We made the imports necessary for all of our analysis and tests\n",
    "\n",
    "import pandas as pd\n",
    "import numpy as np\n",
    "import matplotlib.pyplot as plt\n",
    "import sklearn as skl\n",
    "from sklearn.linear_model import LinearRegression"
   ]
  },
  {
   "cell_type": "code",
   "execution_count": 2,
   "id": "voluntary-database",
   "metadata": {},
   "outputs": [
    {
     "data": {
      "text/html": [
       "<div>\n",
       "<style scoped>\n",
       "    .dataframe tbody tr th:only-of-type {\n",
       "        vertical-align: middle;\n",
       "    }\n",
       "\n",
       "    .dataframe tbody tr th {\n",
       "        vertical-align: top;\n",
       "    }\n",
       "\n",
       "    .dataframe thead th {\n",
       "        text-align: right;\n",
       "    }\n",
       "</style>\n",
       "<table border=\"1\" class=\"dataframe\">\n",
       "  <thead>\n",
       "    <tr style=\"text-align: right;\">\n",
       "      <th></th>\n",
       "      <th>League</th>\n",
       "      <th>Year</th>\n",
       "      <th>Season</th>\n",
       "      <th>Type</th>\n",
       "      <th>blueTeamTag</th>\n",
       "      <th>bResult</th>\n",
       "      <th>rResult</th>\n",
       "      <th>redTeamTag</th>\n",
       "      <th>gamelength</th>\n",
       "      <th>golddiff</th>\n",
       "      <th>...</th>\n",
       "      <th>redMiddleChamp</th>\n",
       "      <th>goldredMiddle</th>\n",
       "      <th>redADC</th>\n",
       "      <th>redADCChamp</th>\n",
       "      <th>goldredADC</th>\n",
       "      <th>redSupport</th>\n",
       "      <th>redSupportChamp</th>\n",
       "      <th>goldredSupport</th>\n",
       "      <th>redBans</th>\n",
       "      <th>Address</th>\n",
       "    </tr>\n",
       "  </thead>\n",
       "  <tbody>\n",
       "    <tr>\n",
       "      <th>0</th>\n",
       "      <td>NALCS</td>\n",
       "      <td>2015</td>\n",
       "      <td>Spring</td>\n",
       "      <td>Season</td>\n",
       "      <td>TSM</td>\n",
       "      <td>1</td>\n",
       "      <td>0</td>\n",
       "      <td>C9</td>\n",
       "      <td>40</td>\n",
       "      <td>[0, 0, -14, -65, -268, -431, -488, -789, -494,...</td>\n",
       "      <td>...</td>\n",
       "      <td>Fizz</td>\n",
       "      <td>[475, 475, 552, 842, 1178, 1378, 1635, 1949, 2...</td>\n",
       "      <td>Sneaky</td>\n",
       "      <td>Sivir</td>\n",
       "      <td>[475, 475, 532, 762, 1097, 1469, 1726, 2112, 2...</td>\n",
       "      <td>LemonNation</td>\n",
       "      <td>Thresh</td>\n",
       "      <td>[515, 515, 577, 722, 911, 1042, 1194, 1370, 14...</td>\n",
       "      <td>['Tristana', 'Leblanc', 'Nidalee']</td>\n",
       "      <td>http://matchhistory.na.leagueoflegends.com/en/...</td>\n",
       "    </tr>\n",
       "    <tr>\n",
       "      <th>1</th>\n",
       "      <td>NALCS</td>\n",
       "      <td>2015</td>\n",
       "      <td>Spring</td>\n",
       "      <td>Season</td>\n",
       "      <td>CST</td>\n",
       "      <td>0</td>\n",
       "      <td>1</td>\n",
       "      <td>DIG</td>\n",
       "      <td>38</td>\n",
       "      <td>[0, 0, -26, -18, 147, 237, -152, 18, 88, -242,...</td>\n",
       "      <td>...</td>\n",
       "      <td>Azir</td>\n",
       "      <td>[475, 475, 552, 786, 1097, 1389, 1660, 1955, 2...</td>\n",
       "      <td>CoreJJ</td>\n",
       "      <td>Corki</td>\n",
       "      <td>[475, 475, 532, 868, 1220, 1445, 1732, 1979, 2...</td>\n",
       "      <td>KiWiKiD</td>\n",
       "      <td>Annie</td>\n",
       "      <td>[515, 515, 583, 752, 900, 1066, 1236, 1417, 15...</td>\n",
       "      <td>['RekSai', 'Janna', 'Leblanc']</td>\n",
       "      <td>http://matchhistory.na.leagueoflegends.com/en/...</td>\n",
       "    </tr>\n",
       "    <tr>\n",
       "      <th>2</th>\n",
       "      <td>NALCS</td>\n",
       "      <td>2015</td>\n",
       "      <td>Spring</td>\n",
       "      <td>Season</td>\n",
       "      <td>WFX</td>\n",
       "      <td>1</td>\n",
       "      <td>0</td>\n",
       "      <td>GV</td>\n",
       "      <td>40</td>\n",
       "      <td>[0, 0, 10, -60, 34, 37, 589, 1064, 1258, 913, ...</td>\n",
       "      <td>...</td>\n",
       "      <td>Azir</td>\n",
       "      <td>[475, 475, 533, 801, 1006, 1233, 1385, 1720, 1...</td>\n",
       "      <td>Cop</td>\n",
       "      <td>Corki</td>\n",
       "      <td>[475, 475, 533, 781, 1085, 1398, 1782, 1957, 2...</td>\n",
       "      <td>BunnyFuFuu</td>\n",
       "      <td>Janna</td>\n",
       "      <td>[515, 515, 584, 721, 858, 1002, 1168, 1303, 14...</td>\n",
       "      <td>['Leblanc', 'Zed', 'RekSai']</td>\n",
       "      <td>http://matchhistory.na.leagueoflegends.com/en/...</td>\n",
       "    </tr>\n",
       "    <tr>\n",
       "      <th>3</th>\n",
       "      <td>NALCS</td>\n",
       "      <td>2015</td>\n",
       "      <td>Spring</td>\n",
       "      <td>Season</td>\n",
       "      <td>TIP</td>\n",
       "      <td>0</td>\n",
       "      <td>1</td>\n",
       "      <td>TL</td>\n",
       "      <td>41</td>\n",
       "      <td>[0, 0, -15, 25, 228, -6, -243, 175, -346, 16, ...</td>\n",
       "      <td>...</td>\n",
       "      <td>Lulu</td>\n",
       "      <td>[475, 475, 532, 771, 1046, 1288, 1534, 1776, 2...</td>\n",
       "      <td>KEITH</td>\n",
       "      <td>KogMaw</td>\n",
       "      <td>[475, 475, 532, 766, 1161, 1438, 1776, 1936, 2...</td>\n",
       "      <td>Xpecial</td>\n",
       "      <td>Janna</td>\n",
       "      <td>[515, 515, 583, 721, 870, 1059, 1205, 1342, 15...</td>\n",
       "      <td>['RekSai', 'Rumble', 'LeeSin']</td>\n",
       "      <td>http://matchhistory.na.leagueoflegends.com/en/...</td>\n",
       "    </tr>\n",
       "    <tr>\n",
       "      <th>4</th>\n",
       "      <td>NALCS</td>\n",
       "      <td>2015</td>\n",
       "      <td>Spring</td>\n",
       "      <td>Season</td>\n",
       "      <td>CLG</td>\n",
       "      <td>1</td>\n",
       "      <td>0</td>\n",
       "      <td>T8</td>\n",
       "      <td>35</td>\n",
       "      <td>[40, 40, 44, -36, 113, 158, -121, -191, 23, 20...</td>\n",
       "      <td>...</td>\n",
       "      <td>Lulu</td>\n",
       "      <td>[475, 475, 532, 807, 1042, 1338, 1646, 1951, 2...</td>\n",
       "      <td>Maplestreet8</td>\n",
       "      <td>Corki</td>\n",
       "      <td>[475, 475, 532, 792, 1187, 1488, 1832, 2136, 2...</td>\n",
       "      <td>Dodo8</td>\n",
       "      <td>Annie</td>\n",
       "      <td>[475, 475, 538, 671, 817, 948, 1104, 1240, 136...</td>\n",
       "      <td>['Rumble', 'Sivir', 'Rengar']</td>\n",
       "      <td>http://matchhistory.na.leagueoflegends.com/en/...</td>\n",
       "    </tr>\n",
       "  </tbody>\n",
       "</table>\n",
       "<p>5 rows × 57 columns</p>\n",
       "</div>"
      ],
      "text/plain": [
       "  League  Year  Season    Type blueTeamTag  bResult  rResult redTeamTag  \\\n",
       "0  NALCS  2015  Spring  Season         TSM        1        0         C9   \n",
       "1  NALCS  2015  Spring  Season         CST        0        1        DIG   \n",
       "2  NALCS  2015  Spring  Season         WFX        1        0         GV   \n",
       "3  NALCS  2015  Spring  Season         TIP        0        1         TL   \n",
       "4  NALCS  2015  Spring  Season         CLG        1        0         T8   \n",
       "\n",
       "   gamelength                                           golddiff  ...  \\\n",
       "0          40  [0, 0, -14, -65, -268, -431, -488, -789, -494,...  ...   \n",
       "1          38  [0, 0, -26, -18, 147, 237, -152, 18, 88, -242,...  ...   \n",
       "2          40  [0, 0, 10, -60, 34, 37, 589, 1064, 1258, 913, ...  ...   \n",
       "3          41  [0, 0, -15, 25, 228, -6, -243, 175, -346, 16, ...  ...   \n",
       "4          35  [40, 40, 44, -36, 113, 158, -121, -191, 23, 20...  ...   \n",
       "\n",
       "  redMiddleChamp                                      goldredMiddle  \\\n",
       "0           Fizz  [475, 475, 552, 842, 1178, 1378, 1635, 1949, 2...   \n",
       "1           Azir  [475, 475, 552, 786, 1097, 1389, 1660, 1955, 2...   \n",
       "2           Azir  [475, 475, 533, 801, 1006, 1233, 1385, 1720, 1...   \n",
       "3           Lulu  [475, 475, 532, 771, 1046, 1288, 1534, 1776, 2...   \n",
       "4           Lulu  [475, 475, 532, 807, 1042, 1338, 1646, 1951, 2...   \n",
       "\n",
       "         redADC redADCChamp  \\\n",
       "0        Sneaky       Sivir   \n",
       "1        CoreJJ       Corki   \n",
       "2           Cop       Corki   \n",
       "3         KEITH      KogMaw   \n",
       "4  Maplestreet8       Corki   \n",
       "\n",
       "                                          goldredADC   redSupport  \\\n",
       "0  [475, 475, 532, 762, 1097, 1469, 1726, 2112, 2...  LemonNation   \n",
       "1  [475, 475, 532, 868, 1220, 1445, 1732, 1979, 2...      KiWiKiD   \n",
       "2  [475, 475, 533, 781, 1085, 1398, 1782, 1957, 2...   BunnyFuFuu   \n",
       "3  [475, 475, 532, 766, 1161, 1438, 1776, 1936, 2...      Xpecial   \n",
       "4  [475, 475, 532, 792, 1187, 1488, 1832, 2136, 2...        Dodo8   \n",
       "\n",
       "  redSupportChamp                                     goldredSupport  \\\n",
       "0          Thresh  [515, 515, 577, 722, 911, 1042, 1194, 1370, 14...   \n",
       "1           Annie  [515, 515, 583, 752, 900, 1066, 1236, 1417, 15...   \n",
       "2           Janna  [515, 515, 584, 721, 858, 1002, 1168, 1303, 14...   \n",
       "3           Janna  [515, 515, 583, 721, 870, 1059, 1205, 1342, 15...   \n",
       "4           Annie  [475, 475, 538, 671, 817, 948, 1104, 1240, 136...   \n",
       "\n",
       "                              redBans  \\\n",
       "0  ['Tristana', 'Leblanc', 'Nidalee']   \n",
       "1      ['RekSai', 'Janna', 'Leblanc']   \n",
       "2        ['Leblanc', 'Zed', 'RekSai']   \n",
       "3      ['RekSai', 'Rumble', 'LeeSin']   \n",
       "4       ['Rumble', 'Sivir', 'Rengar']   \n",
       "\n",
       "                                             Address  \n",
       "0  http://matchhistory.na.leagueoflegends.com/en/...  \n",
       "1  http://matchhistory.na.leagueoflegends.com/en/...  \n",
       "2  http://matchhistory.na.leagueoflegends.com/en/...  \n",
       "3  http://matchhistory.na.leagueoflegends.com/en/...  \n",
       "4  http://matchhistory.na.leagueoflegends.com/en/...  \n",
       "\n",
       "[5 rows x 57 columns]"
      ]
     },
     "execution_count": 2,
     "metadata": {},
     "output_type": "execute_result"
    }
   ],
   "source": [
    "# import csv and peek it\n",
    "\n",
    "df = pd.read_csv(\"LeagueofLegends.csv\")\n",
    "df.head()"
   ]
  },
  {
   "cell_type": "markdown",
   "id": "tired-geometry",
   "metadata": {},
   "source": [
    "## Data Analysis\n",
    "\n",
    "As we decided to focus on the EU and NA regions, the first thing that we decided to \n",
    "look at right away were winrates. No matter how well a team or an individual person\n",
    "performs at an event, all that really matters is the end result. As a result, the main thing we\n",
    "focused on were the winrates of each region at international events. We did look into other\n",
    "fields of measurements like gold diff or KDA(kills/death/assist ratio), but we soon realized\n",
    "how they only measure how well or how poorly they played in the game, but not the actual result \n",
    "itself. A team can do very well throughout a game and then lose the final teamfight and lose the\n",
    "game. In such a case only winrates are the best form of measurement.\n",
    "\n",
    "\n",
    "The first thing we did was actually distinguishing the columns of data that we need and\n",
    "also getting information to actually figure out who won each of the games.\n",
    "\n",
    "\n",
    "Since our main goal is solving the issue of EU vs NA, we decided to only examine only international\n",
    "tournaments where EU and NA actually face against each other.\n",
    "\n",
    "\n",
    "So first we found the international tournaments and got the data from just those events."
   ]
  },
  {
   "cell_type": "code",
   "execution_count": 3,
   "id": "unexpected-globe",
   "metadata": {},
   "outputs": [
    {
     "data": {
      "text/plain": [
       "array(['NALCS', 'EULCS', 'LCK', 'LMS', 'CBLoL', 'TCL', 'OPL', 'CLS',\n",
       "       'LLN', 'LJL', 'LCL', 'WC', 'MSI', 'IEM', 'RR'], dtype=object)"
      ]
     },
     "execution_count": 3,
     "metadata": {},
     "output_type": "execute_result"
    }
   ],
   "source": [
    "# look at the different types of tournaments\n",
    "df.League.unique()"
   ]
  },
  {
   "cell_type": "code",
   "execution_count": 4,
   "id": "champion-locking",
   "metadata": {},
   "outputs": [
    {
     "data": {
      "text/html": [
       "<div>\n",
       "<style scoped>\n",
       "    .dataframe tbody tr th:only-of-type {\n",
       "        vertical-align: middle;\n",
       "    }\n",
       "\n",
       "    .dataframe tbody tr th {\n",
       "        vertical-align: top;\n",
       "    }\n",
       "\n",
       "    .dataframe thead th {\n",
       "        text-align: right;\n",
       "    }\n",
       "</style>\n",
       "<table border=\"1\" class=\"dataframe\">\n",
       "  <thead>\n",
       "    <tr style=\"text-align: right;\">\n",
       "      <th></th>\n",
       "      <th>blueTeamTag</th>\n",
       "      <th>redTeamTag</th>\n",
       "      <th>bResult</th>\n",
       "      <th>Year</th>\n",
       "      <th>Season</th>\n",
       "    </tr>\n",
       "  </thead>\n",
       "  <tbody>\n",
       "    <tr>\n",
       "      <th>6391</th>\n",
       "      <td>EDG</td>\n",
       "      <td>SSW</td>\n",
       "      <td>0</td>\n",
       "      <td>2014</td>\n",
       "      <td>Summer</td>\n",
       "    </tr>\n",
       "    <tr>\n",
       "      <th>6392</th>\n",
       "      <td>TSM</td>\n",
       "      <td>SK</td>\n",
       "      <td>1</td>\n",
       "      <td>2014</td>\n",
       "      <td>Summer</td>\n",
       "    </tr>\n",
       "    <tr>\n",
       "      <th>6393</th>\n",
       "      <td>DP</td>\n",
       "      <td>AHQ</td>\n",
       "      <td>0</td>\n",
       "      <td>2014</td>\n",
       "      <td>Summer</td>\n",
       "    </tr>\n",
       "    <tr>\n",
       "      <th>6394</th>\n",
       "      <td>TPA</td>\n",
       "      <td>SHR</td>\n",
       "      <td>0</td>\n",
       "      <td>2014</td>\n",
       "      <td>Summer</td>\n",
       "    </tr>\n",
       "    <tr>\n",
       "      <th>6395</th>\n",
       "      <td>SSW</td>\n",
       "      <td>AHQ</td>\n",
       "      <td>1</td>\n",
       "      <td>2014</td>\n",
       "      <td>Summer</td>\n",
       "    </tr>\n",
       "    <tr>\n",
       "      <th>...</th>\n",
       "      <td>...</td>\n",
       "      <td>...</td>\n",
       "      <td>...</td>\n",
       "      <td>...</td>\n",
       "      <td>...</td>\n",
       "    </tr>\n",
       "    <tr>\n",
       "      <th>7044</th>\n",
       "      <td>RPG</td>\n",
       "      <td>GAM</td>\n",
       "      <td>0</td>\n",
       "      <td>2017</td>\n",
       "      <td>Summer</td>\n",
       "    </tr>\n",
       "    <tr>\n",
       "      <th>7045</th>\n",
       "      <td>GAM</td>\n",
       "      <td>RPG</td>\n",
       "      <td>0</td>\n",
       "      <td>2017</td>\n",
       "      <td>Summer</td>\n",
       "    </tr>\n",
       "    <tr>\n",
       "      <th>7049</th>\n",
       "      <td>GAM</td>\n",
       "      <td>FW</td>\n",
       "      <td>0</td>\n",
       "      <td>2017</td>\n",
       "      <td>Spring</td>\n",
       "    </tr>\n",
       "    <tr>\n",
       "      <th>7055</th>\n",
       "      <td>SHR</td>\n",
       "      <td>OMG</td>\n",
       "      <td>1</td>\n",
       "      <td>2014</td>\n",
       "      <td>Summer</td>\n",
       "    </tr>\n",
       "    <tr>\n",
       "      <th>7056</th>\n",
       "      <td>FW</td>\n",
       "      <td>UOL</td>\n",
       "      <td>1</td>\n",
       "      <td>2016</td>\n",
       "      <td>Summer</td>\n",
       "    </tr>\n",
       "  </tbody>\n",
       "</table>\n",
       "<p>658 rows × 5 columns</p>\n",
       "</div>"
      ],
      "text/plain": [
       "     blueTeamTag redTeamTag  bResult  Year  Season\n",
       "6391         EDG        SSW        0  2014  Summer\n",
       "6392         TSM         SK        1  2014  Summer\n",
       "6393          DP        AHQ        0  2014  Summer\n",
       "6394         TPA        SHR        0  2014  Summer\n",
       "6395         SSW        AHQ        1  2014  Summer\n",
       "...          ...        ...      ...   ...     ...\n",
       "7044         RPG        GAM        0  2017  Summer\n",
       "7045         GAM        RPG        0  2017  Summer\n",
       "7049         GAM         FW        0  2017  Spring\n",
       "7055         SHR        OMG        1  2014  Summer\n",
       "7056          FW        UOL        1  2016  Summer\n",
       "\n",
       "[658 rows x 5 columns]"
      ]
     },
     "execution_count": 4,
     "metadata": {},
     "output_type": "execute_result"
    }
   ],
   "source": [
    "# we only want international tournaments, so 'WC', 'MSI', 'IEM', and 'RR'\n",
    "international = ['WC', 'MSI', 'IEM', 'RR']\n",
    "international_df = df[df['League'].isin(international)]\n",
    "\n",
    "# we can also drop unnecessary columns to make data easier to view\n",
    "international_df = international_df[['blueTeamTag', 'redTeamTag', 'bResult', 'Year', 'Season']]\n",
    "\n",
    "international_df"
   ]
  },
  {
   "cell_type": "markdown",
   "id": "fundamental-spyware",
   "metadata": {},
   "source": [
    "Next we had to take a look at the performances of each of these regions at international \n",
    "events. We first figured out all the NA and EU teams that existed from 2014 through 2017. \n",
    "Using our team lists, the results column and the League column (keeps track of the region \n",
    "that is playing) we then calculated the winrates for the EU and NA regions at international \n",
    "events between 2014 and 2017."
   ]
  },
  {
   "cell_type": "code",
   "execution_count": 5,
   "id": "expensive-chemical",
   "metadata": {},
   "outputs": [],
   "source": [
    "# need to identify NA and EU teams respectively\n",
    "# we can do this by looking at the teams in NALCS and EULCS, because no teams have ever changed region\n",
    "NA_df = df[df['League'] == 'NALCS']\n",
    "EU_df = df[df['League'] == 'EULCS']\n",
    "\n",
    "# find the unique team names in each region\n",
    "\n",
    "# each team has played on blue side at least once\n",
    "\n",
    "NA_teams = NA_df.blueTeamTag.unique()\n",
    "EU_teams = EU_df.blueTeamTag.unique()"
   ]
  },
  {
   "cell_type": "code",
   "execution_count": 6,
   "id": "tough-payroll",
   "metadata": {},
   "outputs": [
    {
     "name": "stdout",
     "output_type": "stream",
     "text": [
      "NA games played:  198 EU games played:  228\n",
      "NA winrate:  0.47474747474747475 EU winrate:  0.42543859649122806\n"
     ]
    }
   ],
   "source": [
    "# look at winrates of each region overall\n",
    "\n",
    "NA_games_played = 0\n",
    "NA_games_won = 0\n",
    "EU_games_played = 0\n",
    "EU_games_won = 0\n",
    "\n",
    "\n",
    "# We go through all international games and record the results if\n",
    "# an NA or EU team participated in it. We are keeping track of games\n",
    "# played and wins for each region.\n",
    "for i, row in international_df.iterrows():\n",
    "    if row['blueTeamTag'] in NA_teams:\n",
    "        NA_games_played += 1\n",
    "        if row['bResult'] == 1:\n",
    "            NA_games_won += 1\n",
    "    if row['redTeamTag'] in NA_teams:\n",
    "        NA_games_played += 1\n",
    "        if row['bResult'] == 0:\n",
    "            NA_games_won += 1\n",
    "    if row['blueTeamTag'] in EU_teams:\n",
    "        EU_games_played += 1\n",
    "        if row['bResult'] == 1:\n",
    "            EU_games_won += 1\n",
    "    if row['redTeamTag'] in EU_teams:\n",
    "        EU_games_played += 1\n",
    "        if row['bResult'] == 0:\n",
    "            EU_games_won += 1\n",
    "\n",
    "print('NA games played: ', NA_games_played, 'EU games played: ', EU_games_played)\n",
    "print('NA winrate: ', NA_games_won/NA_games_played, 'EU winrate: ', EU_games_won/EU_games_played)"
   ]
  },
  {
   "cell_type": "markdown",
   "id": "acknowledged-wellington",
   "metadata": {},
   "source": [
    "Looking at just this data we see that NA had a slightly higher winrate, by about five percent.\n",
    "Unfortunately, both regions do seem to be doing poorly as they both are losing more than half\n",
    "of their matches. However, this analyzing just this isn't enough, so next we decided to examine \n",
    "their performances by season."
   ]
  },
  {
   "cell_type": "code",
   "execution_count": 7,
   "id": "homeless-inspection",
   "metadata": {},
   "outputs": [
    {
     "name": "stdout",
     "output_type": "stream",
     "text": [
      "['Summer' 'Spring']\n",
      "[2014 2015 2016 2017]\n"
     ]
    }
   ],
   "source": [
    "# To analyze winrates over time first, need to figure out the appropriate time span\n",
    "# We find the time span in which NA and EU played in international events\n",
    "\n",
    "print(international_df.Season.unique())\n",
    "print(international_df.Year.unique())"
   ]
  },
  {
   "cell_type": "code",
   "execution_count": 8,
   "id": "economic-salad",
   "metadata": {},
   "outputs": [
    {
     "name": "stdout",
     "output_type": "stream",
     "text": [
      "[-1, 0.47619047619047616, 0.5333333333333333, 0.3888888888888889, 0.5172413793103449, 0.45, 0.36363636363636365, 0.5434782608695652]\n",
      "[-1, 0.3333333333333333, 0.3333333333333333, 0.5365853658536586, 0.3333333333333333, 0.4857142857142857, 0.46511627906976744, 0.36363636363636365]\n"
     ]
    }
   ],
   "source": [
    "# next, calculate winrates for each region, over each time period\n",
    "\n",
    "years = [2014, 2015, 2016, 2017]\n",
    "seasons = ['Spring', 'Summer']\n",
    "NA_winrates = []\n",
    "EU_winrates = []\n",
    "\n",
    "# we run through a for loop that calculates the win rate for each season\n",
    "# (ex. Spring 2015) and then adds them to NA_winrates and EU_winrates lists\n",
    "# accordingly.\n",
    "for year in years:\n",
    "    for season in seasons:\n",
    "        NA_games = 0\n",
    "        NA_wins = 0\n",
    "        EU_games = 0\n",
    "        EU_wins = 0 \n",
    "        \n",
    "        for i, row in international_df.iterrows():\n",
    "            if row['Season'] == season and row['Year'] == year:\n",
    "                if row['blueTeamTag'] in NA_teams:\n",
    "                    NA_games += 1\n",
    "                    if row['bResult'] == 1:\n",
    "                        NA_wins += 1\n",
    "                if row['redTeamTag'] in NA_teams:\n",
    "                    NA_games += 1\n",
    "                    if row['bResult'] == 0:\n",
    "                        NA_wins += 1\n",
    "                if row['blueTeamTag'] in EU_teams:\n",
    "                    EU_games += 1\n",
    "                    if row['bResult'] == 1:\n",
    "                        EU_wins += 1\n",
    "                if row['redTeamTag'] in EU_teams:\n",
    "                    EU_games += 1\n",
    "                    if row['bResult'] == 0:\n",
    "                        EU_wins += 1\n",
    "        if(NA_games == 0):\n",
    "            NA_winrates.append(-1)\n",
    "        else:\n",
    "            NA_winrates.append(NA_wins/NA_games)\n",
    "        if(EU_games == 0):\n",
    "            EU_winrates.append(-1)\n",
    "        else:\n",
    "            EU_winrates.append(EU_wins/EU_games)\n",
    "print(NA_winrates)\n",
    "print(EU_winrates)"
   ]
  },
  {
   "cell_type": "code",
   "execution_count": 9,
   "id": "configured-emphasis",
   "metadata": {},
   "outputs": [],
   "source": [
    "# there is no spring 2014 data, as we see a -1 in our two winrate lists.\n",
    "# So we can drop that season\n",
    "\n",
    "del NA_winrates[0]\n",
    "del EU_winrates[0]"
   ]
  },
  {
   "cell_type": "code",
   "execution_count": 10,
   "id": "interracial-yeast",
   "metadata": {},
   "outputs": [
    {
     "data": {
      "image/png": "[encoded data removed]",
      "text/plain": [
       "<Figure size 432x288 with 1 Axes>"
      ]
     },
     "metadata": {
      "needs_background": "light"
     },
     "output_type": "display_data"
    }
   ],
   "source": [
    "# we can now plot these winrates for easier visibility. .0 = spring, .5 = summer\n",
    "\n",
    "# We plot the winrates for both regions over time\n",
    "x = [2014.5, 2015, 2015.5, 2016, 2016.5, 2017, 2017.5]\n",
    "plt.plot(x, NA_winrates, label='NA')\n",
    "plt.plot(x, EU_winrates, label ='EU')\n",
    "plt.ylabel('Winrate')\n",
    "plt.xlabel('Year')\n",
    "plt.title('International performance over time')\n",
    "plt.legend()\n",
    "plt.show()"
   ]
  },
  {
   "cell_type": "markdown",
   "id": "colored-poland",
   "metadata": {},
   "source": [
    "We gathered the winrates for each of the region for each season. The seasonal results \n",
    "seem to tell us a completely different story. Both regions seem to have had ups and downs. \n",
    "There wasn't any particular time period where a particular region was dominating the \n",
    "international events. NA does seem to have a lost bit of momentum as their last few seasons \n",
    "have been a bit patchy. Meanwhile, EU seemed to have had a rough start in 2014 and 2015 but \n",
    "are doing a lot better as of the last few seasons."
   ]
  },
  {
   "cell_type": "markdown",
   "id": "rough-tuition",
   "metadata": {},
   "source": [
    "With that done, what we wanted to examine were just a few individual teams from each region.\n",
    "We wanted to look at these teams and see if there are any discrepancies or any standout \n",
    "information that we could make use of."
   ]
  },
  {
   "cell_type": "code",
   "execution_count": 11,
   "id": "macro-frederick",
   "metadata": {},
   "outputs": [
    {
     "name": "stdout",
     "output_type": "stream",
     "text": [
      "{'TSM': 77, 'C9': 49, 'CLG': 40, 'IMT': 16, 'DIG': 3, 'TL': 7, 'P1': 6}\n",
      "{'SK': 9, 'FNC': 62, 'H2K': 28, 'OG': 22, 'G2': 57, 'SPY': 6, 'MSF': 12, 'GMB': 2, 'UOL': 26, 'ASC': 4}\n"
     ]
    }
   ],
   "source": [
    "# analyze teams from each region over time\n",
    "winrate_dict_NA = {}\n",
    "winrate_dict_EU = {}\n",
    "\n",
    "# This for loop keeps track of the \n",
    "for i, row in international_df.iterrows():\n",
    "    if row['blueTeamTag'] in NA_teams:\n",
    "        if row['blueTeamTag'] in winrate_dict_NA.keys():\n",
    "            winrate_dict_NA[row['blueTeamTag']] += 1 \n",
    "        else:\n",
    "            winrate_dict_NA[row['blueTeamTag']] = 1\n",
    "\n",
    "    if row['redTeamTag'] in NA_teams:\n",
    "        if row['redTeamTag'] in winrate_dict_NA.keys():\n",
    "            winrate_dict_NA[row['redTeamTag']] += 1 \n",
    "        else:\n",
    "            winrate_dict_NA[row['redTeamTag']] = 1\n",
    "    if row['blueTeamTag'] in EU_teams:\n",
    "        if row['blueTeamTag'] in winrate_dict_EU.keys():\n",
    "            winrate_dict_EU[row['blueTeamTag']] += 1 \n",
    "        else:\n",
    "            winrate_dict_EU[row['blueTeamTag']] = 1\n",
    "\n",
    "    if row['redTeamTag'] in EU_teams:\n",
    "        if row['redTeamTag'] in winrate_dict_EU.keys():\n",
    "            winrate_dict_EU[row['redTeamTag']] += 1 \n",
    "        else:\n",
    "            winrate_dict_EU[row['redTeamTag']] = 1\n",
    "print(winrate_dict_NA)\n",
    "print(winrate_dict_EU)"
   ]
  },
  {
   "cell_type": "markdown",
   "id": "compound-narrow",
   "metadata": {},
   "source": [
    "So, one thing that we see right away is the fact that there are a few teams that only had a few\n",
    "appearances at the international events.\n",
    "\n",
    "IMPORTANT NOTE: \n",
    "Each region generally sends their top 1-3 teams to international events during each\n",
    "season. As a result it does seem like we are missing data for a few teams when all \n",
    "that is really going on is that they didn't qualify for the event.\n",
    "\n",
    "From this, we realized that maybe looking at the data of just the top teams might be \n",
    "of more use. This is because we want to look at the performances of the best teams at \n",
    "international events, as it is unlikely that underdogs will actually perform well at\n",
    "international events. So, for our next analysis we chose the three most experienced teams\n",
    "at international events from both regions (NA: (TSM, C9, CLG);  EU: (FNC, G2, H2K))\n",
    "and examine their performances."
   ]
  },
  {
   "cell_type": "code",
   "execution_count": 12,
   "id": "proof-wedding",
   "metadata": {},
   "outputs": [],
   "source": [
    "# Pick the three teams with the highest games played,\n",
    "# then plot their winrates over time\n",
    "\n",
    "years = [2014, 2015, 2016, 2017]\n",
    "seasons = ['Spring', 'Summer']\n",
    "teams = ['TSM', 'C9', 'CLG', 'FNC', 'G2', 'H2K']\n",
    "NA_TSM = []\n",
    "NA_C9 = []\n",
    "NA_CLG = []\n",
    "EU_FNC = []\n",
    "EU_G2 = []\n",
    "EU_H2K = []\n",
    "\n",
    "\n",
    "# Go through all the international events and keep track of \n",
    "# wins and games played for each of the six teams we chose.\n",
    "for year in years:\n",
    "    for season in seasons:\n",
    "        TSM = [0,0]\n",
    "        C9 = [0,0]\n",
    "        CLG = [0,0]\n",
    "        FNC = [0,0]\n",
    "        G2 = [0,0]\n",
    "        H2K = [0,0]\n",
    "        \n",
    "        # spring 2014 doesn't exist\n",
    "        if season == 'Spring' and year == 2014:\n",
    "            continue\n",
    "        \n",
    "        for i, row in international_df.iterrows():\n",
    "            if row['blueTeamTag'] in teams and row['Year'] == year and row['Season'] == season:\n",
    "                if row['blueTeamTag'] == 'TSM':\n",
    "                    TSM[1] += 1\n",
    "                    if row['bResult'] == 1:\n",
    "                        TSM[0] += 1\n",
    "                if row['blueTeamTag'] == 'C9':\n",
    "                    C9[1] += 1\n",
    "                    if row['bResult'] == 1:\n",
    "                        C9[0] += 1\n",
    "                if row['blueTeamTag'] == 'CLG':\n",
    "                    CLG[1] += 1\n",
    "                    if row['bResult'] == 1:\n",
    "                        CLG[0] += 1\n",
    "                if row['blueTeamTag'] == 'FNC':\n",
    "                    FNC[1] += 1\n",
    "                    if row['bResult'] == 1:\n",
    "                        FNC[0] += 1\n",
    "                if row['blueTeamTag'] == 'G2':\n",
    "                    G2[1] += 1\n",
    "                    if row['bResult'] == 1:\n",
    "                        G2[0] += 1\n",
    "                if row['blueTeamTag'] == 'H2K':\n",
    "                    H2K[1] += 1\n",
    "                    if row['bResult'] == 1:\n",
    "                        H2K[0] += 1         \n",
    "            if row['redTeamTag'] in teams and row['Year'] == year and row['Season'] == season:\n",
    "                if row['redTeamTag'] == 'TSM':\n",
    "                    TSM[1] += 1\n",
    "                    if row['bResult'] == 0:\n",
    "                        TSM[0] += 1\n",
    "                if row['redTeamTag'] == 'C9':\n",
    "                    C9[1] += 1\n",
    "                    if row['bResult'] == 0:\n",
    "                        C9[0] += 1\n",
    "                if row['redTeamTag'] == 'CLG':\n",
    "                    CLG[1] += 1\n",
    "                    if row['bResult'] == 0:\n",
    "                        CLG[0] += 1\n",
    "                if row['redTeamTag'] == 'FNC':\n",
    "                    FNC[1] += 1\n",
    "                    if row['bResult'] == 0:\n",
    "                        FNC[0] += 1\n",
    "                if row['redTeamTag'] == 'G2':\n",
    "                    G2[1] += 1\n",
    "                    if row['bResult'] == 0:\n",
    "                        G2[0] += 1\n",
    "                if row['redTeamTag'] == 'H2K':\n",
    "                    H2K[1] += 1\n",
    "                    if row['bResult'] == 0:\n",
    "                        H2K[0] += 1      \n",
    "        if TSM[1] == 0:\n",
    "            NA_TSM.append(None)\n",
    "        else:\n",
    "            NA_TSM.append(TSM[0]/TSM[1])\n",
    "        if C9[1] == 0:\n",
    "            NA_C9.append(None)\n",
    "        else:\n",
    "            NA_C9.append(C9[0]/C9[1])\n",
    "        if CLG[1] == 0:\n",
    "            NA_CLG.append(None)\n",
    "        else:\n",
    "            NA_CLG.append(CLG[0]/CLG[1])\n",
    "        if FNC[1] == 0:\n",
    "            EU_FNC.append(None)\n",
    "        else:\n",
    "            EU_FNC.append(FNC[0]/FNC[1])\n",
    "        if G2[1] == 0:\n",
    "            EU_G2.append(None)\n",
    "        else:\n",
    "            EU_G2.append(G2[0]/G2[1])\n",
    "        if H2K[1] == 0:\n",
    "            EU_H2K.append(None)\n",
    "        else:\n",
    "            EU_H2K.append(H2K[0]/H2K[1])"
   ]
  },
  {
   "cell_type": "code",
   "execution_count": 13,
   "id": "lined-taste",
   "metadata": {},
   "outputs": [
    {
     "data": {
      "image/png": "[encoded data removed]",
      "text/plain": [
       "<Figure size 432x288 with 1 Axes>"
      ]
     },
     "metadata": {
      "needs_background": "light"
     },
     "output_type": "display_data"
    }
   ],
   "source": [
    "# Now, we can now plot these winrates for the six teams\n",
    "# For easier visibility. .0 = spring, .5 = summer\n",
    "x = [2014.5, 2015, 2015.5, 2016, 2016.5, 2017, 2017.5]\n",
    "plt.plot(x, NA_TSM, label='TSM')\n",
    "plt.plot(x, NA_C9, label='C9')\n",
    "plt.plot(x, NA_CLG, label='CLG')\n",
    "plt.plot(x, EU_FNC, label='FNC')\n",
    "plt.plot(x, EU_G2, label='G2')\n",
    "plt.plot(x, EU_H2K, label='H2K')\n",
    "plt.ylabel('Winrate')\n",
    "plt.xlabel('Year')\n",
    "plt.title('International performance over time')\n",
    "plt.legend()\n",
    "plt.show()"
   ]
  },
  {
   "cell_type": "markdown",
   "id": "pleased-concern",
   "metadata": {},
   "source": [
    "Interestingly enough, TSM is the only team to compete in every single year.\n",
    "There doesn't appear to be any outlier teams and not really much we can actually take\n",
    "away from this data. Excluding poor performances from C9 in 2015 and G2 in 2016,\n",
    "the top teams don't actually seem to fair better at international events. Just looking\n",
    "at the plots they seem to average at around 0.45 winrate. NA also seem to do better \n",
    "than EU on average as well. From this, we can take away that our original data \n",
    "on the entire region seem to actually be a good representation of the best teams from\n",
    "NA as well. This does make sense in the way that teams that attend international\n",
    "events are the best teams from each region."
   ]
  },
  {
   "cell_type": "markdown",
   "id": "indirect-laptop",
   "metadata": {},
   "source": [
    "## Linear Regressions and Modeling\n",
    "The analysis beforehand, while providing insight on the data, did not actually let us draw any conclusions.\n",
    "As such, we will next perform linear regressions on the data in an attempt to predict future performance.\n",
    "While there are some concerns that there is not enough data to create an accurate linear regression,\n",
    "what we have should be barely sufficient to model the short term future.\n",
    "\n",
    "First we plotted NA and EU winrates individually."
   ]
  },
  {
   "cell_type": "code",
   "execution_count": 14,
   "id": "moderate-possible",
   "metadata": {},
   "outputs": [
    {
     "name": "stdout",
     "output_type": "stream",
     "text": [
      "-0.005458533874680649\n"
     ]
    },
    {
     "data": {
      "image/png": "[encoded data removed]",
      "text/plain": [
       "<Figure size 432x288 with 1 Axes>"
      ]
     },
     "metadata": {
      "needs_background": "light"
     },
     "output_type": "display_data"
    }
   ],
   "source": [
    "# initial hypothesis: neither region is particularly better, when looking at winrates that is.\n",
    "m, b = np.polyfit(x, NA_winrates, 1)\n",
    "\n",
    "NA_lin_winrates = []\n",
    "for i in x:\n",
    "    NA_lin_winrates.append(m*i + b)\n",
    "\n",
    "print(m)\n",
    "plt.title('NA Predictions')\n",
    "plt.xlabel('Year')\n",
    "plt.ylabel('Predicted winrate')\n",
    "plt.plot(x, NA_lin_winrates)\n",
    "plt.show()"
   ]
  },
  {
   "cell_type": "code",
   "execution_count": 15,
   "id": "prospective-librarian",
   "metadata": {},
   "outputs": [
    {
     "data": {
      "image/png": "[encoded data removed]",
      "text/plain": [
       "<Figure size 432x288 with 1 Axes>"
      ]
     },
     "metadata": {
      "needs_background": "light"
     },
     "output_type": "display_data"
    }
   ],
   "source": [
    "m, b = np.polyfit(x, EU_winrates, 1)\n",
    "\n",
    "EU_lin_winrates = []\n",
    "for i in x:\n",
    "    EU_lin_winrates.append(m*i + b)\n",
    "\n",
    "plt.title('EU Predictions')\n",
    "plt.xlabel('Year')\n",
    "plt.ylabel('Predicted winrate')\n",
    "plt.plot(x, EU_lin_winrates)\n",
    "plt.show()"
   ]
  },
  {
   "cell_type": "markdown",
   "id": "pacific-murder",
   "metadata": {},
   "source": [
    "The plots tells us a lot right away. EU seems to be improving quite well through the years.\n",
    "Unfortunately, the same can't be said for NA teams, as our linear regression shows a negative \n",
    "slope which means they are doing worse as the years have gone by. However, the plots are \n",
    "somewhat misleading so we plotted both together to get a good comparison."
   ]
  },
  {
   "cell_type": "code",
   "execution_count": 16,
   "id": "flush-lodging",
   "metadata": {},
   "outputs": [
    {
     "data": {
      "image/png": "[encoded data removed]",
      "text/plain": [
       "<Figure size 432x288 with 1 Axes>"
      ]
     },
     "metadata": {
      "needs_background": "light"
     },
     "output_type": "display_data"
    }
   ],
   "source": [
    "# plotting both lines on the same graph for visibility\n",
    "plt.title(\"Both NA and EU Predictions\")\n",
    "plt.ylabel(\"Predicted Winrate\")\n",
    "plt.xlabel('Year')\n",
    "plt.plot(x, NA_lin_winrates, label='NA')\n",
    "plt.plot(x, EU_lin_winrates, label='EU')\n",
    "plt.legend()\n",
    "plt.show()"
   ]
  },
  {
   "cell_type": "markdown",
   "id": "powerful-musical",
   "metadata": {},
   "source": [
    "NA don't look too bad in terms of their loss in performance. They are still doing \n",
    "better than EU, but it is only a matter of time that we will see EU surpass NA.\n",
    "\n",
    "\n",
    "Now that we have regression lines of the winrates for both regions, we wanted to see\n",
    "what they tell us about the future. Are the regions heading in the right direction?"
   ]
  },
  {
   "cell_type": "code",
   "execution_count": 17,
   "id": "controlled-genome",
   "metadata": {},
   "outputs": [
    {
     "data": {
      "image/png": "[encoded data removed]",
      "text/plain": [
       "<Figure size 432x288 with 1 Axes>"
      ]
     },
     "metadata": {
      "needs_background": "light"
     },
     "output_type": "display_data"
    }
   ],
   "source": [
    "# plotting both lines on the same graph and looking at future expectations\n",
    "x2 = [2014.5, 2015, 2015.5, 2016, 2016.5, 2017, 2017.5, 2018, 2018.5, 2019, 2019.5, 2020, 2020.5, 2021]\n",
    "m, b = np.polyfit(x, NA_winrates, 1)\n",
    "m2, b2 = np.polyfit(x, EU_winrates, 1)\n",
    "NA_lin_winrates_future = []\n",
    "for i in x2:\n",
    "    NA_lin_winrates_future.append(m*i + b)\n",
    "EU_lin_winrates_future = []\n",
    "for i in x2:\n",
    "    EU_lin_winrates_future.append(m2*i + b2)\n",
    "\n",
    "plt.title(\"Both NA and EU Predictions\")\n",
    "plt.ylabel(\"Predicted Winrate\")\n",
    "plt.xlabel('Year')\n",
    "plt.plot(x2, NA_lin_winrates_future, label='NA')\n",
    "plt.plot(x2, EU_lin_winrates_future, label='EU')\n",
    "plt.legend()\n",
    "plt.show()"
   ]
  },
  {
   "cell_type": "markdown",
   "id": "needed-allocation",
   "metadata": {},
   "source": [
    "As we expected, our model predicts that EU will surpass NA after 2018. If that same trend were to \n",
    "continue we would see EU dominating NA at international events as they will actually pass 0.5 \n",
    "winrate in 2021, marking the first time either of the regions will be winning most of their games."
   ]
  },
  {
   "cell_type": "markdown",
   "id": "japanese-reform",
   "metadata": {},
   "source": [
    "## Conclusion: \n",
    "\n",
    "In conclusion, the performance of North America and Europe is mostly disappointing, with both regions\n",
    "failing to surpass or equal 50% winrates overall. While this is generally unsurprising given the dominance\n",
    "of Korean teams in League of Legends tournaments, it is still quite sad to look at.\n",
    "\n",
    "But getting back to the main question we were examining, when comparing North America and Europe \n",
    "directly with each other, North America has the clear advantage, with consistently higher winrates\n",
    "across the board. Looking at our latest linear regression, Europe is closing the game at a slow but \n",
    "steady pace, mirroring North America's even slower decline. Thus while North America wins the debate \n",
    "in the short term, in the future few years we can definitely expect to see Europe as the winner of \n",
    "this debate.\n",
    "\n",
    "Comparing prominent teams from each region has different results, with no particular outlier teams\n",
    "standing out. This is unsurprising from an anecdotal perspective - in this time period there we no \n",
    "remarkable teams which stood out internationally. Every single North American and European dream team\n",
    "was thoroughly crushed on the international stage.\n",
    "\n",
    "From our perspective in the future, we can see that this trend has continued. Though I do not have the\n",
    "datasets to support it, from what League of Legends international competitions have looked like in the recent\n",
    "years after those which the Kaggle dataset has recorded, Europe has emerged as a dominant force, while North\n",
    "America remains the trash can of the major regions. European teams have consistently performed well in the \n",
    "World Championships (WC) and Mid Season Invitational (MSI) while North America fails to leave each of the\n",
    "first few stages. Whether or not this trend continues in the data we cannot tell, but anecdotally it seems\n",
    "good enough.\n",
    "\n",
    "Future studies with more current data could be an interesting continuation of this study. While things have\n",
    "probably remained constant, it would be interesting to see whether Europe's rise has continued statistically,\n",
    "and if it continues to grow at that solid rate even today. Other interesting studies could include team\n",
    "spending efficiency, because North America is currently a region known for its lucrative player contracts,\n",
    "to the point where it is becoming a 'retirement home' for formerly skilled players. Its performance in\n",
    "international competitions, however, fails to grow, regardless of how much money is poured in.\n",
    "\n",
    "As a North American fan, the results of this study were pretty disappointing. I was hoping for a decisive\n",
    "moment of truth where the statistics could show a triumphant NA and a defeated EU. Instead, we see the somewhat\n",
    "dreary results, and I'm left cheering for teams that I know will lose on the international stage."
   ]
  }
 ],
 "metadata": {
  "kernelspec": {
   "display_name": "Python 3",
   "language": "python",
   "name": "python3"
  },
  "language_info": {
   "codemirror_mode": {
    "name": "ipython",
    "version": 3
   },
   "file_extension": ".py",
   "mimetype": "text/x-python",
   "name": "python",
   "nbconvert_exporter": "python",
   "pygments_lexer": "ipython3",
   "version": "3.8.6"
  }
 },
 "nbformat": 4,
 "nbformat_minor": 5
}
